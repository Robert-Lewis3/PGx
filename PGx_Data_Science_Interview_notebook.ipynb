{
 "cells": [
  {
   "cell_type": "markdown",
   "id": "7007e047",
   "metadata": {},
   "source": [
    "### Plan\n",
    "\n",
    "    1) Load and read in the data\n",
    "    2) Get an overview of the data\n",
    "    3) Check for missing and unique values\n",
    "    4) Check for outliers\n",
    "    5) Basic visualization of the data\n",
    "    6) Model Selection\n",
    "    7) Model Evaluation\n",
    "    8) Conclusion / Next Steps"
   ]
  },
  {
   "cell_type": "code",
   "execution_count": 1,
   "id": "b31503c9",
   "metadata": {},
   "outputs": [],
   "source": [
    "import numpy as np\n",
    "import pandas as pd\n",
    "import sqlalchemy as sa\n",
    "import matplotlib.pyplot as plt\n",
    "import seaborn as sns\n",
    "import os\n",
    "from sklearn.model_selection import train_test_split\n",
    "\n",
    "import warnings\n",
    "warnings.filterwarnings('ignore')\n",
    "\n",
    "font_title = {'family': 'times new roman', \n",
    "              'color': 'darkred', \n",
    "              'weight': 'bold', \n",
    "              'size': 14}\n",
    "\n",
    "sns.set_style(\"whitegrid\")\n",
    "plt.rcParams['figure.dpi'] = 100\n",
    "\n",
    "%matplotlib inline"
   ]
  },
  {
   "cell_type": "code",
   "execution_count": 2,
   "id": "eb41b3bf",
   "metadata": {},
   "outputs": [],
   "source": [
    "\"\"\"Load data from a flat file into a sqlite database.\"\"\"\n",
    "\n",
    "def load_csv_to_sql(file_path, database='data.db', tablename='ForestCoverage'):\n",
    "    \"\"\"Function definition to convert csv into SQLite3\"\"\"\n",
    "    data = pd.read_csv(file_path)\n",
    "    engine = sa.create_engine(f'sqlite:///{database}')\n",
    "    data.to_sql(tablename, engine, index=False)\n",
    "\n",
    "if __name__ == '__main__':\n",
    "    # TODO: Fill in path to train_data.csv\n",
    "    file_path = '../data/train_data.csv'\n",
    "    load_csv_to_sql(file_path)"
   ]
  },
  {
   "cell_type": "code",
   "execution_count": 3,
   "id": "da1548c2",
   "metadata": {},
   "outputs": [],
   "source": [
    "def load_data(database, tablename):\n",
    "    \"\"\"Load the data from Sqlite3 into pandas dataframe.\"\"\"\n",
    "\n",
    "    df = pd.read_sql_table(tablename, database)\n",
    "    \n",
    "    return df"
   ]
  },
  {
   "cell_type": "markdown",
   "id": "014298fa",
   "metadata": {},
   "source": [
    "---"
   ]
  },
  {
   "cell_type": "code",
   "execution_count": 4,
   "id": "10470fca",
   "metadata": {},
   "outputs": [],
   "source": [
    "# Loading the data into a Pandas df\n",
    "\n",
    "df = load_data('sqlite:///data.db', 'ForestCoverage')"
   ]
  },
  {
   "cell_type": "code",
   "execution_count": 5,
   "id": "6377c1ab",
   "metadata": {},
   "outputs": [
    {
     "data": {
      "text/html": [
       "<div>\n",
       "<style scoped>\n",
       "    .dataframe tbody tr th:only-of-type {\n",
       "        vertical-align: middle;\n",
       "    }\n",
       "\n",
       "    .dataframe tbody tr th {\n",
       "        vertical-align: top;\n",
       "    }\n",
       "\n",
       "    .dataframe thead th {\n",
       "        text-align: right;\n",
       "    }\n",
       "</style>\n",
       "<table border=\"1\" class=\"dataframe\">\n",
       "  <thead>\n",
       "    <tr style=\"text-align: right;\">\n",
       "      <th></th>\n",
       "      <th>Elevation</th>\n",
       "      <th>Aspect</th>\n",
       "      <th>Slope</th>\n",
       "      <th>Horizontal_Distance_To_Hydrology</th>\n",
       "      <th>Vertical_Distance_To_Hydrology</th>\n",
       "      <th>Horizontal_Distance_To_Hydrology.1</th>\n",
       "      <th>Hillshade_9am</th>\n",
       "      <th>Hillshade_Noon</th>\n",
       "      <th>Hillshade_3pm</th>\n",
       "      <th>Horizontal_Distance_To_Fire_Points</th>\n",
       "      <th>Label</th>\n",
       "      <th>Soil_Type</th>\n",
       "      <th>Wilderness_Area</th>\n",
       "    </tr>\n",
       "  </thead>\n",
       "  <tbody>\n",
       "    <tr>\n",
       "      <th>0</th>\n",
       "      <td>2804</td>\n",
       "      <td>139</td>\n",
       "      <td>9</td>\n",
       "      <td>268</td>\n",
       "      <td>65</td>\n",
       "      <td>3180</td>\n",
       "      <td>234</td>\n",
       "      <td>238</td>\n",
       "      <td>135</td>\n",
       "      <td>6121</td>\n",
       "      <td>1</td>\n",
       "      <td>Soil_Type11</td>\n",
       "      <td>Wilderness_Area0</td>\n",
       "    </tr>\n",
       "    <tr>\n",
       "      <th>1</th>\n",
       "      <td>2785</td>\n",
       "      <td>155</td>\n",
       "      <td>18</td>\n",
       "      <td>242</td>\n",
       "      <td>118</td>\n",
       "      <td>3090</td>\n",
       "      <td>238</td>\n",
       "      <td>238</td>\n",
       "      <td>122</td>\n",
       "      <td>6211</td>\n",
       "      <td>1</td>\n",
       "      <td>Soil_Type29</td>\n",
       "      <td>Wilderness_Area0</td>\n",
       "    </tr>\n",
       "    <tr>\n",
       "      <th>2</th>\n",
       "      <td>2579</td>\n",
       "      <td>132</td>\n",
       "      <td>6</td>\n",
       "      <td>300</td>\n",
       "      <td>-15</td>\n",
       "      <td>67</td>\n",
       "      <td>230</td>\n",
       "      <td>237</td>\n",
       "      <td>140</td>\n",
       "      <td>6031</td>\n",
       "      <td>1</td>\n",
       "      <td>Soil_Type28</td>\n",
       "      <td>Wilderness_Area0</td>\n",
       "    </tr>\n",
       "  </tbody>\n",
       "</table>\n",
       "</div>"
      ],
      "text/plain": [
       "   Elevation  Aspect  Slope  Horizontal_Distance_To_Hydrology  \\\n",
       "0       2804     139      9                               268   \n",
       "1       2785     155     18                               242   \n",
       "2       2579     132      6                               300   \n",
       "\n",
       "   Vertical_Distance_To_Hydrology  Horizontal_Distance_To_Hydrology.1  \\\n",
       "0                              65                                3180   \n",
       "1                             118                                3090   \n",
       "2                             -15                                  67   \n",
       "\n",
       "   Hillshade_9am  Hillshade_Noon  Hillshade_3pm  \\\n",
       "0            234             238            135   \n",
       "1            238             238            122   \n",
       "2            230             237            140   \n",
       "\n",
       "   Horizontal_Distance_To_Fire_Points  Label    Soil_Type   Wilderness_Area  \n",
       "0                                6121      1  Soil_Type11  Wilderness_Area0  \n",
       "1                                6211      1  Soil_Type29  Wilderness_Area0  \n",
       "2                                6031      1  Soil_Type28  Wilderness_Area0  "
      ]
     },
     "execution_count": 5,
     "metadata": {},
     "output_type": "execute_result"
    }
   ],
   "source": [
    "df.head(3)"
   ]
  },
  {
   "cell_type": "code",
   "execution_count": 6,
   "id": "36fd5e4e",
   "metadata": {},
   "outputs": [],
   "source": [
    "# Cleaning up the column names\n",
    "\n",
    "df.rename(columns={\"Horizontal_Distance_To_Hydrology.1\": \"Horizontal_Distance_To_Roadway\"}, inplace=True)"
   ]
  },
  {
   "cell_type": "code",
   "execution_count": 7,
   "id": "b93ba011",
   "metadata": {},
   "outputs": [
    {
     "name": "stdout",
     "output_type": "stream",
     "text": [
      "<class 'pandas.core.frame.DataFrame'>\n",
      "RangeIndex: 326793 entries, 0 to 326792\n",
      "Data columns (total 13 columns):\n",
      " #   Column                              Non-Null Count   Dtype \n",
      "---  ------                              --------------   ----- \n",
      " 0   Elevation                           326793 non-null  int64 \n",
      " 1   Aspect                              326793 non-null  int64 \n",
      " 2   Slope                               326793 non-null  int64 \n",
      " 3   Horizontal_Distance_To_Hydrology    326793 non-null  int64 \n",
      " 4   Vertical_Distance_To_Hydrology      326793 non-null  int64 \n",
      " 5   Horizontal_Distance_To_Roadway      326793 non-null  int64 \n",
      " 6   Hillshade_9am                       326793 non-null  int64 \n",
      " 7   Hillshade_Noon                      326793 non-null  int64 \n",
      " 8   Hillshade_3pm                       326793 non-null  int64 \n",
      " 9   Horizontal_Distance_To_Fire_Points  326793 non-null  int64 \n",
      " 10  Label                               326793 non-null  int64 \n",
      " 11  Soil_Type                           326793 non-null  object\n",
      " 12  Wilderness_Area                     326793 non-null  object\n",
      "dtypes: int64(11), object(2)\n",
      "memory usage: 32.4+ MB\n"
     ]
    }
   ],
   "source": [
    "# Getting general info of the dataset\n",
    "\n",
    "df.info()"
   ]
  },
  {
   "cell_type": "markdown",
   "id": "84acffac",
   "metadata": {},
   "source": [
    "<b>This dataset contains 10 numerical features , 2 categorical features , and our target variable 'Label'</b>"
   ]
  },
  {
   "cell_type": "code",
   "execution_count": 8,
   "id": "00d4f720",
   "metadata": {},
   "outputs": [
    {
     "data": {
      "text/plain": [
       "(326793, 13)"
      ]
     },
     "execution_count": 8,
     "metadata": {},
     "output_type": "execute_result"
    }
   ],
   "source": [
    "# Checking shape for number of obervations and features\n",
    "\n",
    "df.shape"
   ]
  },
  {
   "cell_type": "markdown",
   "id": "ea404bf7",
   "metadata": {},
   "source": [
    "<b>There are 326,793 observations</b>"
   ]
  },
  {
   "cell_type": "code",
   "execution_count": 9,
   "id": "29e48be9",
   "metadata": {},
   "outputs": [
    {
     "data": {
      "text/plain": [
       "Elevation                             0\n",
       "Aspect                                0\n",
       "Slope                                 0\n",
       "Horizontal_Distance_To_Hydrology      0\n",
       "Vertical_Distance_To_Hydrology        0\n",
       "Horizontal_Distance_To_Roadway        0\n",
       "Hillshade_9am                         0\n",
       "Hillshade_Noon                        0\n",
       "Hillshade_3pm                         0\n",
       "Horizontal_Distance_To_Fire_Points    0\n",
       "Label                                 0\n",
       "Soil_Type                             0\n",
       "Wilderness_Area                       0\n",
       "dtype: int64"
      ]
     },
     "execution_count": 9,
     "metadata": {},
     "output_type": "execute_result"
    }
   ],
   "source": [
    "# Checking for nulls -- from literature, should be none\n",
    "\n",
    "df.isnull().sum()"
   ]
  },
  {
   "cell_type": "markdown",
   "id": "9e07af5c",
   "metadata": {},
   "source": [
    "<b>No missing values were found</b>"
   ]
  },
  {
   "cell_type": "code",
   "execution_count": 10,
   "id": "9695b9e8",
   "metadata": {},
   "outputs": [
    {
     "data": {
      "text/plain": [
       "Elevation                             1493\n",
       "Aspect                                 361\n",
       "Slope                                   65\n",
       "Horizontal_Distance_To_Hydrology       543\n",
       "Vertical_Distance_To_Hydrology         690\n",
       "Horizontal_Distance_To_Roadway        5785\n",
       "Hillshade_9am                          202\n",
       "Hillshade_Noon                         178\n",
       "Hillshade_3pm                          255\n",
       "Horizontal_Distance_To_Fire_Points    5827\n",
       "Label                                    2\n",
       "Soil_Type                               35\n",
       "Wilderness_Area                          4\n",
       "dtype: int64"
      ]
     },
     "execution_count": 10,
     "metadata": {},
     "output_type": "execute_result"
    }
   ],
   "source": [
    "# Checking for unique values in each feature column\n",
    "\n",
    "df.nunique()"
   ]
  },
  {
   "cell_type": "code",
   "execution_count": 11,
   "id": "c2b3177c",
   "metadata": {
    "scrolled": true
   },
   "outputs": [
    {
     "data": {
      "text/html": [
       "<div>\n",
       "<style scoped>\n",
       "    .dataframe tbody tr th:only-of-type {\n",
       "        vertical-align: middle;\n",
       "    }\n",
       "\n",
       "    .dataframe tbody tr th {\n",
       "        vertical-align: top;\n",
       "    }\n",
       "\n",
       "    .dataframe thead th {\n",
       "        text-align: right;\n",
       "    }\n",
       "</style>\n",
       "<table border=\"1\" class=\"dataframe\">\n",
       "  <thead>\n",
       "    <tr style=\"text-align: right;\">\n",
       "      <th></th>\n",
       "      <th>Elevation</th>\n",
       "      <th>Aspect</th>\n",
       "      <th>Slope</th>\n",
       "      <th>Horizontal_Distance_To_Hydrology</th>\n",
       "      <th>Vertical_Distance_To_Hydrology</th>\n",
       "      <th>Horizontal_Distance_To_Roadway</th>\n",
       "      <th>Hillshade_9am</th>\n",
       "      <th>Hillshade_Noon</th>\n",
       "      <th>Hillshade_3pm</th>\n",
       "      <th>Horizontal_Distance_To_Fire_Points</th>\n",
       "      <th>Label</th>\n",
       "    </tr>\n",
       "  </thead>\n",
       "  <tbody>\n",
       "    <tr>\n",
       "      <th>count</th>\n",
       "      <td>326793.000000</td>\n",
       "      <td>326793.000000</td>\n",
       "      <td>326793.000000</td>\n",
       "      <td>326793.000000</td>\n",
       "      <td>326793.000000</td>\n",
       "      <td>326793.000000</td>\n",
       "      <td>326793.000000</td>\n",
       "      <td>326793.000000</td>\n",
       "      <td>326793.000000</td>\n",
       "      <td>326793.000000</td>\n",
       "      <td>326793.000000</td>\n",
       "    </tr>\n",
       "    <tr>\n",
       "      <th>mean</th>\n",
       "      <td>2967.862023</td>\n",
       "      <td>145.154523</td>\n",
       "      <td>12.634628</td>\n",
       "      <td>259.570789</td>\n",
       "      <td>39.548546</td>\n",
       "      <td>2845.105712</td>\n",
       "      <td>214.673546</td>\n",
       "      <td>223.608985</td>\n",
       "      <td>141.108053</td>\n",
       "      <td>2308.181121</td>\n",
       "      <td>0.649237</td>\n",
       "    </tr>\n",
       "    <tr>\n",
       "      <th>std</th>\n",
       "      <td>196.001939</td>\n",
       "      <td>111.673887</td>\n",
       "      <td>6.924092</td>\n",
       "      <td>202.200011</td>\n",
       "      <td>52.990079</td>\n",
       "      <td>1688.671598</td>\n",
       "      <td>24.237692</td>\n",
       "      <td>17.530001</td>\n",
       "      <td>34.919579</td>\n",
       "      <td>1474.368002</td>\n",
       "      <td>0.477210</td>\n",
       "    </tr>\n",
       "    <tr>\n",
       "      <th>min</th>\n",
       "      <td>2142.000000</td>\n",
       "      <td>0.000000</td>\n",
       "      <td>0.000000</td>\n",
       "      <td>0.000000</td>\n",
       "      <td>-159.000000</td>\n",
       "      <td>0.000000</td>\n",
       "      <td>46.000000</td>\n",
       "      <td>30.000000</td>\n",
       "      <td>0.000000</td>\n",
       "      <td>0.000000</td>\n",
       "      <td>0.000000</td>\n",
       "    </tr>\n",
       "    <tr>\n",
       "      <th>25%</th>\n",
       "      <td>2840.000000</td>\n",
       "      <td>53.000000</td>\n",
       "      <td>8.000000</td>\n",
       "      <td>108.000000</td>\n",
       "      <td>6.000000</td>\n",
       "      <td>1401.000000</td>\n",
       "      <td>203.000000</td>\n",
       "      <td>214.000000</td>\n",
       "      <td>120.000000</td>\n",
       "      <td>1253.000000</td>\n",
       "      <td>0.000000</td>\n",
       "    </tr>\n",
       "    <tr>\n",
       "      <th>50%</th>\n",
       "      <td>2974.000000</td>\n",
       "      <td>108.000000</td>\n",
       "      <td>12.000000</td>\n",
       "      <td>216.000000</td>\n",
       "      <td>25.000000</td>\n",
       "      <td>2601.000000</td>\n",
       "      <td>220.000000</td>\n",
       "      <td>226.000000</td>\n",
       "      <td>141.000000</td>\n",
       "      <td>2011.000000</td>\n",
       "      <td>1.000000</td>\n",
       "    </tr>\n",
       "    <tr>\n",
       "      <th>75%</th>\n",
       "      <td>3104.000000</td>\n",
       "      <td>248.000000</td>\n",
       "      <td>16.000000</td>\n",
       "      <td>366.000000</td>\n",
       "      <td>57.000000</td>\n",
       "      <td>4203.000000</td>\n",
       "      <td>232.000000</td>\n",
       "      <td>236.000000</td>\n",
       "      <td>163.000000</td>\n",
       "      <td>2875.000000</td>\n",
       "      <td>1.000000</td>\n",
       "    </tr>\n",
       "    <tr>\n",
       "      <th>max</th>\n",
       "      <td>3686.000000</td>\n",
       "      <td>360.000000</td>\n",
       "      <td>64.000000</td>\n",
       "      <td>1397.000000</td>\n",
       "      <td>601.000000</td>\n",
       "      <td>7117.000000</td>\n",
       "      <td>254.000000</td>\n",
       "      <td>254.000000</td>\n",
       "      <td>254.000000</td>\n",
       "      <td>7173.000000</td>\n",
       "      <td>1.000000</td>\n",
       "    </tr>\n",
       "  </tbody>\n",
       "</table>\n",
       "</div>"
      ],
      "text/plain": [
       "           Elevation         Aspect          Slope  \\\n",
       "count  326793.000000  326793.000000  326793.000000   \n",
       "mean     2967.862023     145.154523      12.634628   \n",
       "std       196.001939     111.673887       6.924092   \n",
       "min      2142.000000       0.000000       0.000000   \n",
       "25%      2840.000000      53.000000       8.000000   \n",
       "50%      2974.000000     108.000000      12.000000   \n",
       "75%      3104.000000     248.000000      16.000000   \n",
       "max      3686.000000     360.000000      64.000000   \n",
       "\n",
       "       Horizontal_Distance_To_Hydrology  Vertical_Distance_To_Hydrology  \\\n",
       "count                     326793.000000                   326793.000000   \n",
       "mean                         259.570789                       39.548546   \n",
       "std                          202.200011                       52.990079   \n",
       "min                            0.000000                     -159.000000   \n",
       "25%                          108.000000                        6.000000   \n",
       "50%                          216.000000                       25.000000   \n",
       "75%                          366.000000                       57.000000   \n",
       "max                         1397.000000                      601.000000   \n",
       "\n",
       "       Horizontal_Distance_To_Roadway  Hillshade_9am  Hillshade_Noon  \\\n",
       "count                   326793.000000  326793.000000   326793.000000   \n",
       "mean                      2845.105712     214.673546      223.608985   \n",
       "std                       1688.671598      24.237692       17.530001   \n",
       "min                          0.000000      46.000000       30.000000   \n",
       "25%                       1401.000000     203.000000      214.000000   \n",
       "50%                       2601.000000     220.000000      226.000000   \n",
       "75%                       4203.000000     232.000000      236.000000   \n",
       "max                       7117.000000     254.000000      254.000000   \n",
       "\n",
       "       Hillshade_3pm  Horizontal_Distance_To_Fire_Points          Label  \n",
       "count  326793.000000                       326793.000000  326793.000000  \n",
       "mean      141.108053                         2308.181121       0.649237  \n",
       "std        34.919579                         1474.368002       0.477210  \n",
       "min         0.000000                            0.000000       0.000000  \n",
       "25%       120.000000                         1253.000000       0.000000  \n",
       "50%       141.000000                         2011.000000       1.000000  \n",
       "75%       163.000000                         2875.000000       1.000000  \n",
       "max       254.000000                         7173.000000       1.000000  "
      ]
     },
     "execution_count": 11,
     "metadata": {},
     "output_type": "execute_result"
    }
   ],
   "source": [
    "# Descriptive statistics summary for numerical features\n",
    "\n",
    "df.describe()"
   ]
  },
  {
   "cell_type": "code",
   "execution_count": 12,
   "id": "cb2204ae",
   "metadata": {},
   "outputs": [
    {
     "name": "stdout",
     "output_type": "stream",
     "text": [
      "Spruce_Fir: 114627, Lodgepole_Pine: 212166\n"
     ]
    }
   ],
   "source": [
    "# Checking to see the class balance \n",
    "\n",
    "Spruce_Fir = df[df['Label'] == 0]\n",
    "Lodgepole_Pine  = df[df['Label'] == 1]\n",
    "\n",
    "print('Spruce_Fir: {:d}, Lodgepole_Pine: {:d}'.format(len(Spruce_Fir), len(Lodgepole_Pine)))"
   ]
  },
  {
   "cell_type": "code",
   "execution_count": 13,
   "id": "f14ee1d1",
   "metadata": {
    "scrolled": true
   },
   "outputs": [
    {
     "data": {
      "image/png": "[encoded data removed]",
      "text/plain": [
       "<Figure size 432x288 with 1 Axes>"
      ]
     },
     "metadata": {
      "needs_background": "light"
     },
     "output_type": "display_data"
    }
   ],
   "source": [
    "# Visualization of the target variable count\n",
    "\n",
    "sns.countplot(x = df['Label'],label=\"Sum\")\n",
    "\n",
    "plt.show()"
   ]
  },
  {
   "cell_type": "code",
   "execution_count": 14,
   "id": "570baf3e",
   "metadata": {},
   "outputs": [
    {
     "data": {
      "image/png": "[encoded data removed]",
      "text/plain": [
       "<Figure size 1080x720 with 12 Axes>"
      ]
     },
     "metadata": {
      "needs_background": "light"
     },
     "output_type": "display_data"
    }
   ],
   "source": [
    "# Distribution plots of the features \n",
    "\n",
    "df.hist(bins=30, figsize=(15, 10)) ;"
   ]
  },
  {
   "cell_type": "markdown",
   "id": "f5bf9a7f",
   "metadata": {},
   "source": [
    "<b>While 'Elevation' and 'Hillshade_3pm' are relatively normally distributed, there is positive skewness in 'Slope', 'Horizontal_Distance_To_Hydrology', & 'Horizontal_Distance_To_Fire_Points' and negative skewness for 'Hillshade_9am' and 'Hillshade_Noon'</b>"
   ]
  },
  {
   "cell_type": "code",
   "execution_count": 15,
   "id": "a4dcc9e0",
   "metadata": {},
   "outputs": [
    {
     "data": {
      "image/png": "[encoded data removed]",
      "text/plain": [
       "<Figure size 792x792 with 2 Axes>"
      ]
     },
     "metadata": {
      "needs_background": "light"
     },
     "output_type": "display_data"
    }
   ],
   "source": [
    "# Correlation plot to check for redundant info\n",
    "\n",
    "plt.figure(figsize=(11,11))\n",
    "sns.heatmap(df.corr(),annot=True, cmap=\"coolwarm\");"
   ]
  },
  {
   "cell_type": "code",
   "execution_count": 16,
   "id": "66791523",
   "metadata": {},
   "outputs": [
    {
     "data": {
      "text/html": [
       "<div>\n",
       "<style scoped>\n",
       "    .dataframe tbody tr th:only-of-type {\n",
       "        vertical-align: middle;\n",
       "    }\n",
       "\n",
       "    .dataframe tbody tr th {\n",
       "        vertical-align: top;\n",
       "    }\n",
       "\n",
       "    .dataframe thead th {\n",
       "        text-align: right;\n",
       "    }\n",
       "</style>\n",
       "<table border=\"1\" class=\"dataframe\">\n",
       "  <thead>\n",
       "    <tr style=\"text-align: right;\">\n",
       "      <th></th>\n",
       "      <th>count</th>\n",
       "      <th>unique</th>\n",
       "      <th>top</th>\n",
       "      <th>freq</th>\n",
       "    </tr>\n",
       "    <tr>\n",
       "      <th>Wilderness_Area</th>\n",
       "      <th></th>\n",
       "      <th></th>\n",
       "      <th></th>\n",
       "      <th></th>\n",
       "    </tr>\n",
       "  </thead>\n",
       "  <tbody>\n",
       "    <tr>\n",
       "      <th>Wilderness_Area0</th>\n",
       "      <td>237256</td>\n",
       "      <td>17</td>\n",
       "      <td>Soil_Type28</td>\n",
       "      <td>111082</td>\n",
       "    </tr>\n",
       "    <tr>\n",
       "      <th>Wilderness_Area1</th>\n",
       "      <td>247</td>\n",
       "      <td>15</td>\n",
       "      <td>Soil_Type22</td>\n",
       "      <td>65</td>\n",
       "    </tr>\n",
       "    <tr>\n",
       "      <th>Wilderness_Area2</th>\n",
       "      <td>86264</td>\n",
       "      <td>25</td>\n",
       "      <td>Soil_Type31</td>\n",
       "      <td>24919</td>\n",
       "    </tr>\n",
       "    <tr>\n",
       "      <th>Wilderness_Area3</th>\n",
       "      <td>3026</td>\n",
       "      <td>7</td>\n",
       "      <td>Soil_Type9</td>\n",
       "      <td>1871</td>\n",
       "    </tr>\n",
       "  </tbody>\n",
       "</table>\n",
       "</div>"
      ],
      "text/plain": [
       "                   count unique          top    freq\n",
       "Wilderness_Area                                     \n",
       "Wilderness_Area0  237256     17  Soil_Type28  111082\n",
       "Wilderness_Area1     247     15  Soil_Type22      65\n",
       "Wilderness_Area2   86264     25  Soil_Type31   24919\n",
       "Wilderness_Area3    3026      7   Soil_Type9    1871"
      ]
     },
     "execution_count": 16,
     "metadata": {},
     "output_type": "execute_result"
    }
   ],
   "source": [
    "# Wilderness - Soil relationship\n",
    "# 0 - Rawah , 1 - Neota , 2 - Comanche Peak , 3 - Cache la Poudre\n",
    "\n",
    "df.groupby(['Wilderness_Area']).Soil_Type.describe(include=['O'])"
   ]
  },
  {
   "cell_type": "markdown",
   "id": "af65afdb",
   "metadata": {},
   "source": [
    "<b>Because there are multiple soil types per wilderness, I'm choosing to eliminate this column</b>"
   ]
  },
  {
   "cell_type": "code",
   "execution_count": 17,
   "id": "68716ce6",
   "metadata": {},
   "outputs": [
    {
     "data": {
      "text/plain": [
       "(326793, 12)"
      ]
     },
     "execution_count": 17,
     "metadata": {},
     "output_type": "execute_result"
    }
   ],
   "source": [
    "# Dropping the Soil Type col\n",
    "\n",
    "df = df.drop(columns=['Soil_Type'])\n",
    "df.shape"
   ]
  },
  {
   "cell_type": "code",
   "execution_count": 18,
   "id": "cc601857",
   "metadata": {},
   "outputs": [
    {
     "name": "stdout",
     "output_type": "stream",
     "text": [
      "        Wilderness_Area0  Wilderness_Area1  Wilderness_Area2  Wilderness_Area3\n",
      "0                      1                 0                 0                 0\n",
      "1                      1                 0                 0                 0\n",
      "2                      1                 0                 0                 0\n",
      "3                      1                 0                 0                 0\n",
      "4                      1                 0                 0                 0\n",
      "...                  ...               ...               ...               ...\n",
      "326788                 0                 0                 1                 0\n",
      "326789                 0                 0                 1                 0\n",
      "326790                 0                 0                 1                 0\n",
      "326791                 0                 0                 1                 0\n",
      "326792                 0                 0                 1                 0\n",
      "\n",
      "[326793 rows x 4 columns]\n"
     ]
    }
   ],
   "source": [
    "# One-Hot encoding the four wilderness areas for ease of use in models\n",
    "\n",
    "dummy_wilderness = pd.get_dummies(df['Wilderness_Area'])\n",
    "\n",
    "print(dummy_wilderness)"
   ]
  },
  {
   "cell_type": "code",
   "execution_count": 19,
   "id": "fc5e8584",
   "metadata": {},
   "outputs": [
    {
     "data": {
      "text/html": [
       "<div>\n",
       "<style scoped>\n",
       "    .dataframe tbody tr th:only-of-type {\n",
       "        vertical-align: middle;\n",
       "    }\n",
       "\n",
       "    .dataframe tbody tr th {\n",
       "        vertical-align: top;\n",
       "    }\n",
       "\n",
       "    .dataframe thead th {\n",
       "        text-align: right;\n",
       "    }\n",
       "</style>\n",
       "<table border=\"1\" class=\"dataframe\">\n",
       "  <thead>\n",
       "    <tr style=\"text-align: right;\">\n",
       "      <th></th>\n",
       "      <th>Elevation</th>\n",
       "      <th>Aspect</th>\n",
       "      <th>Slope</th>\n",
       "      <th>Horizontal_Distance_To_Hydrology</th>\n",
       "      <th>Vertical_Distance_To_Hydrology</th>\n",
       "      <th>Horizontal_Distance_To_Roadway</th>\n",
       "      <th>Hillshade_9am</th>\n",
       "      <th>Hillshade_Noon</th>\n",
       "      <th>Hillshade_3pm</th>\n",
       "      <th>Horizontal_Distance_To_Fire_Points</th>\n",
       "      <th>Label</th>\n",
       "      <th>Wilderness_Area</th>\n",
       "      <th>Wilderness_Area0</th>\n",
       "      <th>Wilderness_Area1</th>\n",
       "      <th>Wilderness_Area2</th>\n",
       "      <th>Wilderness_Area3</th>\n",
       "    </tr>\n",
       "  </thead>\n",
       "  <tbody>\n",
       "    <tr>\n",
       "      <th>0</th>\n",
       "      <td>2804</td>\n",
       "      <td>139</td>\n",
       "      <td>9</td>\n",
       "      <td>268</td>\n",
       "      <td>65</td>\n",
       "      <td>3180</td>\n",
       "      <td>234</td>\n",
       "      <td>238</td>\n",
       "      <td>135</td>\n",
       "      <td>6121</td>\n",
       "      <td>1</td>\n",
       "      <td>Wilderness_Area0</td>\n",
       "      <td>1</td>\n",
       "      <td>0</td>\n",
       "      <td>0</td>\n",
       "      <td>0</td>\n",
       "    </tr>\n",
       "    <tr>\n",
       "      <th>1</th>\n",
       "      <td>2785</td>\n",
       "      <td>155</td>\n",
       "      <td>18</td>\n",
       "      <td>242</td>\n",
       "      <td>118</td>\n",
       "      <td>3090</td>\n",
       "      <td>238</td>\n",
       "      <td>238</td>\n",
       "      <td>122</td>\n",
       "      <td>6211</td>\n",
       "      <td>1</td>\n",
       "      <td>Wilderness_Area0</td>\n",
       "      <td>1</td>\n",
       "      <td>0</td>\n",
       "      <td>0</td>\n",
       "      <td>0</td>\n",
       "    </tr>\n",
       "    <tr>\n",
       "      <th>2</th>\n",
       "      <td>2579</td>\n",
       "      <td>132</td>\n",
       "      <td>6</td>\n",
       "      <td>300</td>\n",
       "      <td>-15</td>\n",
       "      <td>67</td>\n",
       "      <td>230</td>\n",
       "      <td>237</td>\n",
       "      <td>140</td>\n",
       "      <td>6031</td>\n",
       "      <td>1</td>\n",
       "      <td>Wilderness_Area0</td>\n",
       "      <td>1</td>\n",
       "      <td>0</td>\n",
       "      <td>0</td>\n",
       "      <td>0</td>\n",
       "    </tr>\n",
       "    <tr>\n",
       "      <th>3</th>\n",
       "      <td>2886</td>\n",
       "      <td>151</td>\n",
       "      <td>11</td>\n",
       "      <td>371</td>\n",
       "      <td>26</td>\n",
       "      <td>5253</td>\n",
       "      <td>234</td>\n",
       "      <td>240</td>\n",
       "      <td>136</td>\n",
       "      <td>4051</td>\n",
       "      <td>1</td>\n",
       "      <td>Wilderness_Area0</td>\n",
       "      <td>1</td>\n",
       "      <td>0</td>\n",
       "      <td>0</td>\n",
       "      <td>0</td>\n",
       "    </tr>\n",
       "    <tr>\n",
       "      <th>4</th>\n",
       "      <td>2742</td>\n",
       "      <td>134</td>\n",
       "      <td>22</td>\n",
       "      <td>150</td>\n",
       "      <td>69</td>\n",
       "      <td>3215</td>\n",
       "      <td>248</td>\n",
       "      <td>224</td>\n",
       "      <td>92</td>\n",
       "      <td>6091</td>\n",
       "      <td>1</td>\n",
       "      <td>Wilderness_Area0</td>\n",
       "      <td>1</td>\n",
       "      <td>0</td>\n",
       "      <td>0</td>\n",
       "      <td>0</td>\n",
       "    </tr>\n",
       "  </tbody>\n",
       "</table>\n",
       "</div>"
      ],
      "text/plain": [
       "   Elevation  Aspect  Slope  Horizontal_Distance_To_Hydrology  \\\n",
       "0       2804     139      9                               268   \n",
       "1       2785     155     18                               242   \n",
       "2       2579     132      6                               300   \n",
       "3       2886     151     11                               371   \n",
       "4       2742     134     22                               150   \n",
       "\n",
       "   Vertical_Distance_To_Hydrology  Horizontal_Distance_To_Roadway  \\\n",
       "0                              65                            3180   \n",
       "1                             118                            3090   \n",
       "2                             -15                              67   \n",
       "3                              26                            5253   \n",
       "4                              69                            3215   \n",
       "\n",
       "   Hillshade_9am  Hillshade_Noon  Hillshade_3pm  \\\n",
       "0            234             238            135   \n",
       "1            238             238            122   \n",
       "2            230             237            140   \n",
       "3            234             240            136   \n",
       "4            248             224             92   \n",
       "\n",
       "   Horizontal_Distance_To_Fire_Points  Label   Wilderness_Area  \\\n",
       "0                                6121      1  Wilderness_Area0   \n",
       "1                                6211      1  Wilderness_Area0   \n",
       "2                                6031      1  Wilderness_Area0   \n",
       "3                                4051      1  Wilderness_Area0   \n",
       "4                                6091      1  Wilderness_Area0   \n",
       "\n",
       "   Wilderness_Area0  Wilderness_Area1  Wilderness_Area2  Wilderness_Area3  \n",
       "0                 1                 0                 0                 0  \n",
       "1                 1                 0                 0                 0  \n",
       "2                 1                 0                 0                 0  \n",
       "3                 1                 0                 0                 0  \n",
       "4                 1                 0                 0                 0  "
      ]
     },
     "execution_count": 19,
     "metadata": {},
     "output_type": "execute_result"
    }
   ],
   "source": [
    "# Merging one hot encoded variables onto the original data\n",
    "\n",
    "df = pd.merge(left=df, right=dummy_wilderness, left_index=True, right_index=True)\n",
    "\n",
    "df.head()"
   ]
  },
  {
   "cell_type": "code",
   "execution_count": 20,
   "id": "889c66cf",
   "metadata": {},
   "outputs": [],
   "source": [
    "# The columns you want to search for outliers in\n",
    "\n",
    "cols = ['Elevation', 'Aspect', 'Slope', 'Horizontal_Distance_To_Hydrology',\n",
    "       'Vertical_Distance_To_Hydrology', 'Horizontal_Distance_To_Roadway',\n",
    "       'Hillshade_9am', 'Hillshade_Noon', 'Hillshade_3pm',\n",
    "       'Horizontal_Distance_To_Fire_Points'] \n",
    "\n",
    "# Calculate quantiles and IQR\n",
    "Q1 = df[cols].quantile(0.25) \n",
    "Q3 = df[cols].quantile(0.75)\n",
    "IQR = Q3 - Q1\n",
    "\n",
    "# Return a boolean array of the rows with (any) non-outlier column values\n",
    "condition = ~((df[cols] < (Q1 - 1.5 * IQR)) | (df[cols] > (Q3 + 1.5 * IQR))).any(axis=1)\n",
    "\n",
    "# Filter our dataframe based on condition\n",
    "filtered_df = df[condition].reindex()"
   ]
  },
  {
   "cell_type": "code",
   "execution_count": 21,
   "id": "cc5b3799",
   "metadata": {},
   "outputs": [
    {
     "name": "stdout",
     "output_type": "stream",
     "text": [
      "Number of Outliers: 60347\n"
     ]
    }
   ],
   "source": [
    "print('Number of Outliers:',len(df)-len(filtered_df))"
   ]
  },
  {
   "cell_type": "code",
   "execution_count": 22,
   "id": "ded002a3",
   "metadata": {},
   "outputs": [
    {
     "data": {
      "text/plain": [
       "(266446, 16)"
      ]
     },
     "execution_count": 22,
     "metadata": {},
     "output_type": "execute_result"
    }
   ],
   "source": [
    "# Observe new transformed dataframe shape\n",
    "\n",
    "filtered_df.shape"
   ]
  },
  {
   "cell_type": "code",
   "execution_count": 23,
   "id": "ba0d6f57",
   "metadata": {},
   "outputs": [
    {
     "data": {
      "image/png": "[encoded data removed]",
      "text/plain": [
       "<Figure size 1080x720 with 16 Axes>"
      ]
     },
     "metadata": {
      "needs_background": "light"
     },
     "output_type": "display_data"
    }
   ],
   "source": [
    "# Checking to see how removing outliers impacted feature distributions\n",
    "\n",
    "filtered_df.hist(bins=30, figsize=(15, 10)) ;"
   ]
  },
  {
   "cell_type": "markdown",
   "id": "622445db",
   "metadata": {},
   "source": [
    "<b>Here we can see the effect of removing the outliers</b>"
   ]
  },
  {
   "cell_type": "code",
   "execution_count": 24,
   "id": "d76fa9a4",
   "metadata": {},
   "outputs": [
    {
     "data": {
      "image/png": "[encoded data removed]",
      "text/plain": [
       "<Figure size 432x288 with 1 Axes>"
      ]
     },
     "metadata": {
      "needs_background": "light"
     },
     "output_type": "display_data"
    }
   ],
   "source": [
    "sns.countplot(x = filtered_df['Label'],label=\"Sum\")\n",
    "\n",
    "plt.show()"
   ]
  },
  {
   "cell_type": "code",
   "execution_count": 25,
   "id": "56429204",
   "metadata": {},
   "outputs": [],
   "source": [
    "# Forgot to drop original wilderness area col, will do now\n",
    "\n",
    "filtered_df = filtered_df.drop(columns = ['Wilderness_Area'])"
   ]
  },
  {
   "cell_type": "markdown",
   "id": "f2739a4e",
   "metadata": {},
   "source": [
    "### We have a class imbalance of roughly 2:1 , will use undersampling of the majority class"
   ]
  },
  {
   "cell_type": "code",
   "execution_count": 26,
   "id": "5b15b0d1",
   "metadata": {},
   "outputs": [],
   "source": [
    "# Getting the number of rows in minority class\n",
    "\n",
    "row_num = filtered_df.Label.value_counts().min() "
   ]
  },
  {
   "cell_type": "code",
   "execution_count": 27,
   "id": "7c435f9c",
   "metadata": {},
   "outputs": [],
   "source": [
    "final_df = pd.DataFrame()\n",
    "\n",
    "for i in filtered_df.Label.unique():\n",
    "    final_df = pd.concat([final_df,filtered_df[filtered_df.Label==i].sample(row_num)])"
   ]
  },
  {
   "cell_type": "code",
   "execution_count": 28,
   "id": "d54cb7cc",
   "metadata": {},
   "outputs": [
    {
     "data": {
      "text/plain": [
       "1    97002\n",
       "0    97002\n",
       "Name: Label, dtype: int64"
      ]
     },
     "execution_count": 28,
     "metadata": {},
     "output_type": "execute_result"
    }
   ],
   "source": [
    "# We now have equal classes for our models\n",
    "\n",
    "final_df.Label.value_counts()"
   ]
  },
  {
   "cell_type": "markdown",
   "id": "ef6ac8ae",
   "metadata": {},
   "source": [
    "### Now that we have balanced classes , it's time to start preprocessing "
   ]
  },
  {
   "cell_type": "code",
   "execution_count": 29,
   "id": "5f9c62c3",
   "metadata": {},
   "outputs": [],
   "source": [
    "# Define our X (independent variables) , y (target variable) for use in modeling\n",
    " \n",
    "X = final_df.drop(\"Label\", axis = 1)\n",
    "y = final_df[\"Label\"]"
   ]
  },
  {
   "cell_type": "code",
   "execution_count": 30,
   "id": "09ac4be2",
   "metadata": {},
   "outputs": [],
   "source": [
    "# We need to split the data into training and test data\n",
    "\n",
    "X_train, X_test, y_train, y_test = train_test_split(X, y, test_size=0.2, random_state=42)"
   ]
  },
  {
   "cell_type": "code",
   "execution_count": 31,
   "id": "f1785743",
   "metadata": {},
   "outputs": [
    {
     "name": "stdout",
     "output_type": "stream",
     "text": [
      "(155203, 14)\n",
      "(38801, 14)\n",
      "(155203,)\n",
      "(38801,)\n"
     ]
    }
   ],
   "source": [
    "print(X_train.shape, X_test.shape, y_train.shape, y_test.shape, sep=os.linesep)"
   ]
  },
  {
   "cell_type": "markdown",
   "id": "96ac765d",
   "metadata": {},
   "source": [
    "### Standardization of the data"
   ]
  },
  {
   "cell_type": "code",
   "execution_count": 32,
   "id": "e16766fa",
   "metadata": {},
   "outputs": [],
   "source": [
    "# Chose to use StandardScaler bc outliers were removed\n",
    "\n",
    "from sklearn.preprocessing import StandardScaler\n",
    "\n",
    "sc = StandardScaler()\n",
    "X_train = sc.fit_transform(X_train)\n",
    "X_test= sc.transform(X_test)"
   ]
  },
  {
   "cell_type": "markdown",
   "id": "f63d7c00",
   "metadata": {},
   "source": [
    "----"
   ]
  },
  {
   "cell_type": "markdown",
   "id": "3f7c67b9",
   "metadata": {},
   "source": [
    "### Modeling "
   ]
  },
  {
   "cell_type": "markdown",
   "id": "a8823584",
   "metadata": {},
   "source": [
    "<b> In order to establish a good baseline model, I wanted to test several classification models to compare. From here, I'd then go about picking the best 2-3 for further fine tuning</b>"
   ]
  },
  {
   "cell_type": "code",
   "execution_count": 33,
   "id": "4c720eed",
   "metadata": {},
   "outputs": [],
   "source": [
    "# Importing models from sklearn library\n",
    "\n",
    "from sklearn.linear_model import LogisticRegression\n",
    "from sklearn.neighbors import KNeighborsClassifier\n",
    "from sklearn.svm import LinearSVC\n",
    "from sklearn.ensemble import RandomForestClassifier\n",
    "from sklearn.naive_bayes import GaussianNB\n",
    "from sklearn import model_selection\n",
    "from sklearn.utils import class_weight\n",
    "from sklearn.metrics import classification_report\n",
    "from sklearn.metrics import confusion_matrix\n",
    "from sklearn.model_selection import StratifiedKFold\n",
    "from sklearn.metrics import roc_curve, roc_auc_score, auc"
   ]
  },
  {
   "cell_type": "code",
   "execution_count": 34,
   "id": "a004afdd",
   "metadata": {},
   "outputs": [
    {
     "name": "stdout",
     "output_type": "stream",
     "text": [
      "LR: 0.760295 (0.002737)\n",
      "KNN: 0.909364 (0.001559)\n",
      "RF: 0.945201 (0.002507)\n",
      "NB: 0.504848 (0.000277)\n",
      "SVC: 0.759173 (0.002431)\n"
     ]
    },
    {
     "data": {
      "image/png": "[encoded data removed]",
      "text/plain": [
       "<Figure size 432x288 with 1 Axes>"
      ]
     },
     "metadata": {
      "needs_background": "light"
     },
     "output_type": "display_data"
    }
   ],
   "source": [
    "# prepare configuration for cross validation test \n",
    "seed = 42\n",
    "\n",
    "# prepare models\n",
    "\n",
    "models = []\n",
    "models.append(('LR', LogisticRegression()))\n",
    "models.append(('KNN', KNeighborsClassifier()))\n",
    "models.append(('RF', RandomForestClassifier(n_estimators=100, random_state=42)))\n",
    "models.append(('NB', GaussianNB()))\n",
    "models.append(('SVC', LinearSVC()))\n",
    "\n",
    "# evaluate each model for 'accuracy'\n",
    "results = []\n",
    "names = []\n",
    "scoring = 'accuracy'\n",
    "\n",
    "for name, model in models:\n",
    "    skfolds=StratifiedKFold(n_splits=5, shuffle=True, random_state=42)\n",
    "    cv_results = model_selection.cross_val_score(model, X_train, y_train, cv=skfolds, scoring=scoring)\n",
    "    results.append(cv_results)\n",
    "    names.append(name)\n",
    "    msg = \"%s: %f (%f)\" % (name, cv_results.mean(), cv_results.std())\n",
    "    print(msg)\n",
    "    \n",
    "# boxplot algorithm comparison\n",
    "fig = plt.figure()\n",
    "fig.suptitle('Algorithm Comparison')\n",
    "ax = fig.add_subplot(111)\n",
    "plt.boxplot(results)\n",
    "ax.set_xticklabels(names)\n",
    "plt.show()"
   ]
  },
  {
   "cell_type": "markdown",
   "id": "3a5a5a0a",
   "metadata": {},
   "source": [
    "### Logistic Regression"
   ]
  },
  {
   "cell_type": "code",
   "execution_count": 35,
   "id": "24292699",
   "metadata": {},
   "outputs": [],
   "source": [
    "logit = LogisticRegression()"
   ]
  },
  {
   "cell_type": "code",
   "execution_count": 36,
   "id": "1f624138",
   "metadata": {},
   "outputs": [
    {
     "data": {
      "text/plain": [
       "LogisticRegression()"
      ]
     },
     "execution_count": 36,
     "metadata": {},
     "output_type": "execute_result"
    }
   ],
   "source": [
    "logit.fit(X_train, y_train)"
   ]
  },
  {
   "cell_type": "code",
   "execution_count": 37,
   "id": "50f4ec0a",
   "metadata": {},
   "outputs": [],
   "source": [
    "target_probabilities = logit.predict_proba(X_test)[:,1]"
   ]
  },
  {
   "cell_type": "code",
   "execution_count": 38,
   "id": "1e9d4c9e",
   "metadata": {},
   "outputs": [],
   "source": [
    "false_positive_rate, true_positive_rate, threshold = roc_curve(y_test, target_probabilities)\n"
   ]
  },
  {
   "cell_type": "code",
   "execution_count": 39,
   "id": "7aba18ff",
   "metadata": {},
   "outputs": [
    {
     "data": {
      "image/png": "[encoded data removed]",
      "text/plain": [
       "<Figure size 432x288 with 1 Axes>"
      ]
     },
     "metadata": {
      "needs_background": "light"
     },
     "output_type": "display_data"
    }
   ],
   "source": [
    "# Plot ROC curve\n",
    "\n",
    "plt.title(\"Receiver Operating Characteristic - Logistic Regression\")\n",
    "plt.plot(false_positive_rate , true_positive_rate)\n",
    "plt.plot([0,1],ls=\"--\")\n",
    "plt.plot([0,0], [1,0], c=\".7\"), plt.plot([1,1], c=\".7\")\n",
    "plt.ylabel(\"True Positive Rate\")\n",
    "plt.xlabel(\"False Positive Rate\")\n",
    "plt.show()"
   ]
  },
  {
   "cell_type": "code",
   "execution_count": 40,
   "id": "a07cdac2",
   "metadata": {},
   "outputs": [
    {
     "data": {
      "text/plain": [
       "0.8373822582324332"
      ]
     },
     "execution_count": 40,
     "metadata": {},
     "output_type": "execute_result"
    }
   ],
   "source": [
    "# Area under the curve (AUC)\n",
    "roc_auc_score(y_test, target_probabilities)"
   ]
  },
  {
   "cell_type": "markdown",
   "id": "88774cc2",
   "metadata": {},
   "source": [
    "### KNN "
   ]
  },
  {
   "cell_type": "code",
   "execution_count": 41,
   "id": "5bbec586",
   "metadata": {},
   "outputs": [],
   "source": [
    "knn = KNeighborsClassifier()"
   ]
  },
  {
   "cell_type": "code",
   "execution_count": 42,
   "id": "7ada8ab7",
   "metadata": {},
   "outputs": [
    {
     "data": {
      "text/plain": [
       "KNeighborsClassifier()"
      ]
     },
     "execution_count": 42,
     "metadata": {},
     "output_type": "execute_result"
    }
   ],
   "source": [
    "knn.fit(X_train, y_train)"
   ]
  },
  {
   "cell_type": "code",
   "execution_count": 43,
   "id": "272c35c8",
   "metadata": {},
   "outputs": [],
   "source": [
    "target_probabilities = knn.predict_proba(X_test)[:,1]"
   ]
  },
  {
   "cell_type": "code",
   "execution_count": 44,
   "id": "e102024b",
   "metadata": {},
   "outputs": [],
   "source": [
    "false_positive_rate, true_positive_rate, threshold = roc_curve(y_test, target_probabilities)"
   ]
  },
  {
   "cell_type": "code",
   "execution_count": 45,
   "id": "16a8dea0",
   "metadata": {},
   "outputs": [
    {
     "data": {
      "image/png": "[encoded data removed]",
      "text/plain": [
       "<Figure size 432x288 with 1 Axes>"
      ]
     },
     "metadata": {
      "needs_background": "light"
     },
     "output_type": "display_data"
    }
   ],
   "source": [
    "# Plot ROC curve\n",
    "\n",
    "plt.title(\"Receiver Operating Characteristic - KNN\")\n",
    "plt.plot(false_positive_rate , true_positive_rate)\n",
    "plt.plot([0,1],ls=\"--\")\n",
    "plt.plot([0,0], [1,0], c=\".7\"), plt.plot([1,1], c=\".7\")\n",
    "plt.ylabel(\"True Positive Rate\")\n",
    "plt.xlabel(\"False Positive Rate\")\n",
    "plt.show()"
   ]
  },
  {
   "cell_type": "code",
   "execution_count": 46,
   "id": "a9db331c",
   "metadata": {},
   "outputs": [
    {
     "data": {
      "text/plain": [
       "0.9712407273097348"
      ]
     },
     "execution_count": 46,
     "metadata": {},
     "output_type": "execute_result"
    }
   ],
   "source": [
    "# Area under the curve (AUC)\n",
    "roc_auc_score(y_test, target_probabilities)"
   ]
  },
  {
   "cell_type": "markdown",
   "id": "5121c057",
   "metadata": {},
   "source": [
    "## Conclusions and Next Steps\n",
    "\n"
   ]
  },
  {
   "cell_type": "markdown",
   "id": "54f7f67a",
   "metadata": {},
   "source": [
    "For this project we were asked to accurately predict two types of forest cover: Lodgepole Pines and Spruce/Fir\n",
    "\n",
    "The dataset was a subset of the UCI 'Forest Covertype' ML dataset.\n",
    "\n",
    "Initial inspection of the data showed the presence of outliers and an imbalance in the classes of around 2:1\n",
    "\n",
    "Outliers were removed and classes were balanced\n",
    "\n",
    "Undersampling was chosen to balance the classes due to the size of the majority class, however, other methods could have been attempted\n",
    "\n",
    "Several models were chosen to compare for prediction accuracy: Logistic Regression, kNN, Random Forest, Naive Bayes, and Support Vector Machine\n",
    "\n",
    "In this inital test, classifiers were run without any parameters (except RF) to give them equal footing\n",
    "\n",
    "Accuracy results were best for kNN and Random Forest -- although they also need to be considered for time\n",
    "\n",
    "I picked kNN , Random Forest , and Logistic Regression to test further although time was up before I got very far in tuning\n",
    "\n",
    "Somethings I would do, given more time, would be checking for feature importance , visualizing a confusion matrix of the predictions , tuning hyperparams "
   ]
  },
  {
   "cell_type": "markdown",
   "id": "cbdec2cb",
   "metadata": {},
   "source": [
    "### Stopped here -- time up"
   ]
  }
 ],
 "metadata": {
  "kernelspec": {
   "display_name": "Python 3 (ipykernel)",
   "language": "python",
   "name": "python3"
  },
  "language_info": {
   "codemirror_mode": {
    "name": "ipython",
    "version": 3
   },
   "file_extension": ".py",
   "mimetype": "text/x-python",
   "name": "python",
   "nbconvert_exporter": "python",
   "pygments_lexer": "ipython3",
   "version": "3.9.12"
  }
 },
 "nbformat": 4,
 "nbformat_minor": 5
}
